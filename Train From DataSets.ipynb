{
 "cells": [
  {
   "cell_type": "markdown",
   "metadata": {},
   "source": [
    "# News Categorization on Coded Text"
   ]
  },
  {
   "cell_type": "code",
   "execution_count": 1,
   "metadata": {
    "_cell_guid": "b1076dfc-b9ad-4769-8c92-a6c4dae69d19",
    "_kg_hide-input": true,
    "_kg_hide-output": true,
    "_uuid": "8f2839f25d086af736a60e9eeb907d3b93b6e0e5"
   },
   "outputs": [],
   "source": [
    "# Import Necessary Libraries \n",
    "import numpy as np\n",
    "import pandas as pd\n",
    "import matplotlib.pyplot as plt\n",
    "import sklearn\n",
    "%matplotlib inline\n",
    "import os"
   ]
  },
  {
   "cell_type": "markdown",
   "metadata": {
    "_uuid": "d397f6a850bae7de4f0115791cc3abd58182a9f3"
   },
   "source": [
    "## Load and Prepare the Data"
   ]
  },
  {
   "cell_type": "code",
   "execution_count": 2,
   "metadata": {
    "_cell_guid": "79c7e3d0-c299-4dcb-8224-4455121ee9b0",
    "_uuid": "d629ff2d2480ee46fbb7e2d37f6b5fab8052498a",
    "scrolled": true
   },
   "outputs": [
    {
     "data": {
      "text/html": [
       "<div>\n",
       "<style scoped>\n",
       "    .dataframe tbody tr th:only-of-type {\n",
       "        vertical-align: middle;\n",
       "    }\n",
       "\n",
       "    .dataframe tbody tr th {\n",
       "        vertical-align: top;\n",
       "    }\n",
       "\n",
       "    .dataframe thead th {\n",
       "        text-align: right;\n",
       "    }\n",
       "</style>\n",
       "<table border=\"1\" class=\"dataframe\">\n",
       "  <thead>\n",
       "    <tr style=\"text-align: right;\">\n",
       "      <th></th>\n",
       "      <th>Category</th>\n",
       "      <th>Title</th>\n",
       "      <th>URL</th>\n",
       "      <th>Text</th>\n",
       "    </tr>\n",
       "  </thead>\n",
       "  <tbody>\n",
       "    <tr>\n",
       "      <th>1996</th>\n",
       "      <td>Entertainment</td>\n",
       "      <td>সাবিনা ইয়াসমীনের নতুন দুই গান</td>\n",
       "      <td>https://www.prothomalo.com/entertainment/artic...</td>\n",
       "      <td>বরেণ্য গায়িকা সাবিনা ইয়াসমীনকে এখন সেভাবে নতুন...</td>\n",
       "    </tr>\n",
       "    <tr>\n",
       "      <th>3427</th>\n",
       "      <td>Politics</td>\n",
       "      <td>বর্ষপূর্তিতে ৩ লক্ষ্য সামনে রেখে চাঙা হচ্ছে জা...</td>\n",
       "      <td>http://www.banglatribune.com/politics/news/566...</td>\n",
       "      <td>সরকারবিরোধী জোট—জাতীয় ঐক্যফ্রন্টের একবছর পূর্...</td>\n",
       "    </tr>\n",
       "    <tr>\n",
       "      <th>2629</th>\n",
       "      <td>Sports</td>\n",
       "      <td>শফিউল–আল আমিন ফিরলেন, কিন্তু মোস্তাফিজ?</td>\n",
       "      <td>https://www.prothomalo.com/sports/article/1623...</td>\n",
       "      <td>ভারতীয় ব্যাটসম্যানদের আটকাতে ভালো করতে হতো বা...</td>\n",
       "    </tr>\n",
       "    <tr>\n",
       "      <th>5093</th>\n",
       "      <td>Science &amp; Tech</td>\n",
       "      <td>Vodafone idea के इन प्लान पर हर रोज मिलेगा अति...</td>\n",
       "      <td>https://www.jansatta.com/technology-news/vodaf...</td>\n",
       "      <td>टेलीकॉम कंपनी वोडाफोन-आइडिया ने अपने ग्राहकों ...</td>\n",
       "    </tr>\n",
       "    <tr>\n",
       "      <th>1404</th>\n",
       "      <td>Sports</td>\n",
       "      <td>Faraz Gold Cup: Southeast University cavort to...</td>\n",
       "      <td>https://en.prothomalo.com/sports/news/203174/F...</td>\n",
       "      <td>Southeast University reached final of United G...</td>\n",
       "    </tr>\n",
       "  </tbody>\n",
       "</table>\n",
       "</div>"
      ],
      "text/plain": [
       "            Category                                              Title  \\\n",
       "1996   Entertainment                      সাবিনা ইয়াসমীনের নতুন দুই গান   \n",
       "3427        Politics  বর্ষপূর্তিতে ৩ লক্ষ্য সামনে রেখে চাঙা হচ্ছে জা...   \n",
       "2629          Sports            শফিউল–আল আমিন ফিরলেন, কিন্তু মোস্তাফিজ?   \n",
       "5093  Science & Tech  Vodafone idea के इन प्लान पर हर रोज मिलेगा अति...   \n",
       "1404          Sports  Faraz Gold Cup: Southeast University cavort to...   \n",
       "\n",
       "                                                    URL  \\\n",
       "1996  https://www.prothomalo.com/entertainment/artic...   \n",
       "3427  http://www.banglatribune.com/politics/news/566...   \n",
       "2629  https://www.prothomalo.com/sports/article/1623...   \n",
       "5093  https://www.jansatta.com/technology-news/vodaf...   \n",
       "1404  https://en.prothomalo.com/sports/news/203174/F...   \n",
       "\n",
       "                                                   Text  \n",
       "1996  বরেণ্য গায়িকা সাবিনা ইয়াসমীনকে এখন সেভাবে নতুন...  \n",
       "3427  সরকারবিরোধী জোট—জাতীয় ঐক্যফ্রন্টের একবছর পূর্...  \n",
       "2629  ভারতীয় ব্যাটসম্যানদের আটকাতে ভালো করতে হতো বা...  \n",
       "5093  टेलीकॉम कंपनी वोडाफोन-आइडिया ने अपने ग्राहकों ...  \n",
       "1404  Southeast University reached final of United G...  "
      ]
     },
     "execution_count": 2,
     "metadata": {},
     "output_type": "execute_result"
    }
   ],
   "source": [
    "# Load Data\n",
    "englishDataFrame = pd.read_csv(\"DataSets/News Articles (English).csv\", encoding=\"utf-8\", skiprows=0, nrows=1750)\n",
    "banglaDataFrame = pd.read_csv(\"DataSets/News Articles (Bangla).csv\", encoding=\"utf-8\", skiprows=0, nrows=1750)\n",
    "hindiDataFrame = pd.read_csv(\"DataSets/News Articles (Hindi).csv\", encoding=\"utf-8\", skiprows=0, nrows=1750)\n",
    "dataFrame = pd.concat([englishDataFrame, banglaDataFrame, hindiDataFrame], ignore_index=True)\n",
    "\n",
    "# Suffle Data\n",
    "dataFrame = sklearn.utils.shuffle(dataFrame)\n",
    "\n",
    "# Print Data\n",
    "dataFrame.head()"
   ]
  },
  {
   "cell_type": "code",
   "execution_count": 3,
   "metadata": {
    "_uuid": "bcc06034f96025fe60e8d0d936c419026a8c364d"
   },
   "outputs": [
    {
     "data": {
      "text/plain": [
       "Category\n",
       "Economy           1050\n",
       "Entertainment     1050\n",
       "Politics          1050\n",
       "Science & Tech    1050\n",
       "Sports            1050\n",
       "Name: categoryId, dtype: int64"
      ]
     },
     "execution_count": 3,
     "metadata": {},
     "output_type": "execute_result"
    }
   ],
   "source": [
    "# Associate Category Names with Index and Save It in a new Column \"categoryId\"\n",
    "dataFrame[\"categoryId\"] = dataFrame[\"Category\"].factorize()[0]\n",
    "\n",
    "# For the Category IDs Create a New Dataframe \"categoryIdDataFrame\"\n",
    "categoryIdDataFrame = dataFrame[[\"Category\", \"categoryId\"]].drop_duplicates().sort_values(\"categoryId\")\n",
    "\n",
    "# Create a Dictionary to Easily Convert Category Names into categoryIds and Vice-versa\n",
    "categoryToId = dict(categoryIdDataFrame.values)\n",
    "idToCategory = dict(categoryIdDataFrame[[\"categoryId\", \"Category\"]].values)\n",
    "\n",
    "# Group the Dataframe by Categories and Count the Nnumber of News Articles\n",
    "dataFrame.groupby(\"Category\").categoryId.count()"
   ]
  },
  {
   "cell_type": "markdown",
   "metadata": {
    "_uuid": "d1843a95af1d56013396381ecd5eb8aaeeec0958"
   },
   "source": [
    "## Generate Numerical Features Using TFIDF from News Text's Words\n",
    "#### Generate Unigram, Bigram and Trigram Features Using TFIDF Vectorizer."
   ]
  },
  {
   "cell_type": "code",
   "execution_count": 4,
   "metadata": {
    "_uuid": "4129985f65ec767505628b52777ecb39167e0b51",
    "scrolled": true
   },
   "outputs": [
    {
     "data": {
      "text/plain": [
       "['46 रन',\n",
       " '47',\n",
       " '473',\n",
       " '473 64',\n",
       " '473 64 billion',\n",
       " '48',\n",
       " '48 hours',\n",
       " '48 समय',\n",
       " '48 सल',\n",
       " '486',\n",
       " '487',\n",
       " '48mp',\n",
       " '48th',\n",
       " '49',\n",
       " '49 पय',\n",
       " '490',\n",
       " '490 पय',\n",
       " '493',\n",
       " '497',\n",
       " '498',\n",
       " '499',\n",
       " '499 पए',\n",
       " '499 पय',\n",
       " '4g',\n",
       " '4gb',\n",
       " '4gb ram',\n",
       " '4k',\n",
       " '4th',\n",
       " '4क',\n",
       " '4ज',\n",
       " '4ज टवर',\n",
       " '50',\n",
       " '50 000',\n",
       " '50 000 पय',\n",
       " '50 50',\n",
       " '50 50 पर',\n",
       " '50 922',\n",
       " '50 922 कर',\n",
       " '50 billion',\n",
       " '50 cent',\n",
       " '50 million',\n",
       " '50 overs',\n",
       " '50 percent',\n",
       " '50 years',\n",
       " '50 कर',\n",
       " '50 कर मच',\n",
       " '50 टर',\n",
       " '50 पए',\n",
       " '50 पय',\n",
       " '50 पय कर',\n",
       " '50 पय तय',\n",
       " '50 पर',\n",
       " '50 रत',\n",
       " '50 रत शत',\n",
       " '50 सद',\n",
       " '50 हज',\n",
       " '50 हज कर',\n",
       " '50 हज पए',\n",
       " '50 हज पय',\n",
       " '500',\n",
       " '500 000',\n",
       " '500 million',\n",
       " '500 कर',\n",
       " '500 पए',\n",
       " '500 पय',\n",
       " '5000',\n",
       " '500mah',\n",
       " '502',\n",
       " '50th',\n",
       " '50th anniversary',\n",
       " '50व',\n",
       " '51',\n",
       " '51 billion',\n",
       " '51 रन',\n",
       " '512',\n",
       " '512gb',\n",
       " '52',\n",
       " '53',\n",
       " '53 billion',\n",
       " '54',\n",
       " '54 और',\n",
       " '54 और 44',\n",
       " '54 यक',\n",
       " '54 रन',\n",
       " '540',\n",
       " '55',\n",
       " '550',\n",
       " '555',\n",
       " '56',\n",
       " '56 एनस',\n",
       " '56 एनस 54',\n",
       " '57',\n",
       " '58',\n",
       " '58 million',\n",
       " '580',\n",
       " '59',\n",
       " '59 रन',\n",
       " '599',\n",
       " '5g',\n",
       " '5g network',\n",
       " '5g networks',\n",
       " '5th',\n",
       " '5ज',\n",
       " '5व',\n",
       " '60',\n",
       " '60 000',\n",
       " '60 000 पय',\n",
       " '60 billion',\n",
       " '60 cent',\n",
       " '60 run',\n",
       " '60 कर',\n",
       " '60 टर',\n",
       " '60 टर रत',\n",
       " '60 रन',\n",
       " '60 हज',\n",
       " '600',\n",
       " '600 000',\n",
       " '600 कर',\n",
       " '6000',\n",
       " '601',\n",
       " '61',\n",
       " '613',\n",
       " '62',\n",
       " '62 000',\n",
       " '620',\n",
       " '63',\n",
       " '63 रन',\n",
       " '630',\n",
       " '63rd',\n",
       " '64',\n",
       " '64 900',\n",
       " '64 billion',\n",
       " '64 रन',\n",
       " '64gb',\n",
       " '64ज',\n",
       " '65',\n",
       " '65 000',\n",
       " '65 000 पय',\n",
       " '65 रन',\n",
       " '650',\n",
       " '66',\n",
       " '660',\n",
       " '67',\n",
       " '67 490',\n",
       " '67 490 पय',\n",
       " '67 billion',\n",
       " '67 runs',\n",
       " '68',\n",
       " '68 billion',\n",
       " '68 रन',\n",
       " '680',\n",
       " '68th',\n",
       " '69',\n",
       " '69 पय',\n",
       " '69 पय तय',\n",
       " '699',\n",
       " '699 पए',\n",
       " '699 पय',\n",
       " '6gb',\n",
       " '6ज',\n",
       " '70',\n",
       " '70 000',\n",
       " '70 000 पय',\n",
       " '70 cent',\n",
       " '700',\n",
       " '700 पए',\n",
       " '7000',\n",
       " '70th',\n",
       " '70व',\n",
       " '71',\n",
       " '71st',\n",
       " '72',\n",
       " '73',\n",
       " '73 कर',\n",
       " '74',\n",
       " '74 490',\n",
       " '74 490 पय',\n",
       " '74th',\n",
       " '74th minute',\n",
       " '75',\n",
       " '75 billion',\n",
       " '75 cent',\n",
       " '75 million',\n",
       " '75 कर',\n",
       " '750',\n",
       " '76',\n",
       " '77',\n",
       " '773',\n",
       " '77th',\n",
       " '78',\n",
       " '78th',\n",
       " '79',\n",
       " '790',\n",
       " '799',\n",
       " '799 पए',\n",
       " '7th',\n",
       " '7th pay',\n",
       " '7th pay commission',\n",
       " '7व',\n",
       " '7व तन',\n",
       " '7व तन आय',\n",
       " '80',\n",
       " '80 000',\n",
       " '80 000 कर',\n",
       " '80 90',\n",
       " '80 cent',\n",
       " '80 रत',\n",
       " '80 रत शत',\n",
       " '80 रन',\n",
       " '800',\n",
       " '800 000',\n",
       " '800 million',\n",
       " '802',\n",
       " '80s',\n",
       " '81',\n",
       " '810',\n",
       " '81st',\n",
       " '82',\n",
       " '83',\n",
       " '84',\n",
       " '84th',\n",
       " '85',\n",
       " '85 टर',\n",
       " '85 रन',\n",
       " '850',\n",
       " '855',\n",
       " '855 लस',\n",
       " '855 सर',\n",
       " '858',\n",
       " '86',\n",
       " '87',\n",
       " '878',\n",
       " '88',\n",
       " '89',\n",
       " '89 year',\n",
       " '89 year old',\n",
       " '89 पय',\n",
       " '8gb',\n",
       " '8th',\n",
       " '8ज',\n",
       " '90',\n",
       " '90 billion',\n",
       " '90 cent',\n",
       " '90 days',\n",
       " '90 percent',\n",
       " '90 कर',\n",
       " '90 टर',\n",
       " '90 सद',\n",
       " '900',\n",
       " '900 million']"
      ]
     },
     "execution_count": 4,
     "metadata": {},
     "output_type": "execute_result"
    }
   ],
   "source": [
    "# ngram_range=(1, 3) - Generates Unigram, Bigram and Trigram\n",
    "from sklearn.feature_extraction.text import TfidfVectorizer\n",
    "TFIDFVectorizer = TfidfVectorizer(sublinear_tf=True, min_df=5, norm='l2', encoding='utf-8', ngram_range=(1, 3), stop_words='english')\n",
    "\n",
    "# Generate Features\n",
    "features = TFIDFVectorizer.fit_transform(dataFrame.Text).toarray()\n",
    "\n",
    "# Store The Category of the News Articles in \"labels\"\n",
    "labels = dataFrame.categoryId\n",
    "\n",
    "# View Generated Features (Unigram, Bigram and Trigram)\n",
    "np.array(TFIDFVectorizer.get_feature_names()).tolist()[1000:1250]"
   ]
  },
  {
   "cell_type": "markdown",
   "metadata": {
    "_uuid": "36a688ade47f89aaf1a5b8fe37f79da295613211"
   },
   "source": [
    "## Model Training and Accuracy Calculation\n",
    "#### We will Try 5 Different Classification Models on the Data:\n",
    "    Logistic Regression\n",
    "    Random Forest Classifier\n",
    "    Naive Bayes\n",
    "    Stochastic Gradient Descent (SGD) Classifier\n",
    "    Multilayer Perceptron (MLP) Classifier (Adam Solver)"
   ]
  },
  {
   "cell_type": "code",
   "execution_count": 5,
   "metadata": {
    "_uuid": "e8ddd2f69d02f69c77aa94b767b31905b059c3ac"
   },
   "outputs": [],
   "source": [
    "from sklearn.linear_model import LogisticRegression\n",
    "from sklearn.ensemble import RandomForestClassifier\n",
    "from sklearn.naive_bayes import MultinomialNB\n",
    "from sklearn.linear_model import SGDClassifier\n",
    "from sklearn.neural_network import MLPClassifier\n",
    "\n",
    "from sklearn.model_selection import cross_val_score\n",
    "\n",
    "models = [\n",
    "    RandomForestClassifier(n_estimators=200, max_depth=3, random_state=0),\n",
    "    MultinomialNB(),\n",
    "    LogisticRegression(random_state=0, solver=\"lbfgs\"),\n",
    "    SGDClassifier(loss=\"log\"),\n",
    "    MLPClassifier(solver=\"adam\")\n",
    "]"
   ]
  },
  {
   "cell_type": "markdown",
   "metadata": {
    "_uuid": "7263091ab7f7efb06b45626fa4f9f6e657cfb653"
   },
   "source": [
    "#### Create a Data Frame to Store the Results of Various Models.\n",
    "Each model will be run 5 times with different test sets of 20%"
   ]
  },
  {
   "cell_type": "code",
   "execution_count": 6,
   "metadata": {
    "_uuid": "9b0784c73236ed16db95a5f0998a9049085d7814"
   },
   "outputs": [],
   "source": [
    "# Cross Validate with 5 Different Folds of 20% Data\n",
    "crossValidate = 5\n",
    "\n",
    "# Create a Data frame to Store the Results for All 5 Trials of the 3 Different Models\n",
    "crossValidateDataFrame = pd.DataFrame(index=range(crossValidate * len(models)))\n",
    "\n",
    "# Initially All Entries are Empty\n",
    "entries = []"
   ]
  },
  {
   "cell_type": "markdown",
   "metadata": {
    "_uuid": "5f8a79ee779b2604bc24cf992d3a1978db7a9977"
   },
   "source": [
    "#### Run Each Algorithm 5 Times and Store Accuracy Results in \"entries\""
   ]
  },
  {
   "cell_type": "code",
   "execution_count": 7,
   "metadata": {
    "_uuid": "9d56f0aa820fd219f907070b2ea507a1503c1a10"
   },
   "outputs": [
    {
     "name": "stderr",
     "output_type": "stream",
     "text": [
      "C:\\Users\\sheik\\Miniconda3\\lib\\site-packages\\sklearn\\linear_model\\logistic.py:469: FutureWarning: Default multi_class will be changed to 'auto' in 0.22. Specify the multi_class option to silence this warning.\n",
      "  \"this warning.\", FutureWarning)\n",
      "C:\\Users\\sheik\\Miniconda3\\lib\\site-packages\\sklearn\\linear_model\\logistic.py:469: FutureWarning: Default multi_class will be changed to 'auto' in 0.22. Specify the multi_class option to silence this warning.\n",
      "  \"this warning.\", FutureWarning)\n",
      "C:\\Users\\sheik\\Miniconda3\\lib\\site-packages\\sklearn\\linear_model\\logistic.py:469: FutureWarning: Default multi_class will be changed to 'auto' in 0.22. Specify the multi_class option to silence this warning.\n",
      "  \"this warning.\", FutureWarning)\n",
      "C:\\Users\\sheik\\Miniconda3\\lib\\site-packages\\sklearn\\linear_model\\logistic.py:469: FutureWarning: Default multi_class will be changed to 'auto' in 0.22. Specify the multi_class option to silence this warning.\n",
      "  \"this warning.\", FutureWarning)\n",
      "C:\\Users\\sheik\\Miniconda3\\lib\\site-packages\\sklearn\\linear_model\\logistic.py:469: FutureWarning: Default multi_class will be changed to 'auto' in 0.22. Specify the multi_class option to silence this warning.\n",
      "  \"this warning.\", FutureWarning)\n"
     ]
    }
   ],
   "source": [
    "#For Each Algorithm \n",
    "for model in models:\n",
    "    modelName = model.__class__.__name__\n",
    "\n",
    "    # Create 5 Models with Different 20% Test Sets, and Store Their Accuracies\n",
    "    accuracies = cross_val_score(model, features, labels, scoring='accuracy', cv=crossValidate)\n",
    "\n",
    "    # Append All 5 Accuracies Into the Entries list\n",
    "    for foldIds, accuracy in enumerate(accuracies):\n",
    "        entries.append((modelName, foldIds, accuracy))"
   ]
  },
  {
   "cell_type": "markdown",
   "metadata": {
    "_uuid": "a154980c0a1928dc8bfb3669d9b54f14dedf74c3"
   },
   "source": [
    "#### Store Results in The Results Dataframe"
   ]
  },
  {
   "cell_type": "code",
   "execution_count": 8,
   "metadata": {
    "_uuid": "50ad2ff7f09bb968108e7ff0cbf75dd0dcd33d97"
   },
   "outputs": [],
   "source": [
    "# Store the Entries Into The Results Dataframe and Name Its Columns\n",
    "crossValidateDataFrame = pd.DataFrame(entries, columns=[\"modelName\", \"foldIds\", \"accuracy\"])"
   ]
  },
  {
   "cell_type": "markdown",
   "metadata": {
    "_uuid": "9133b7e01812723ecc3a6d11f1107e1d02e6327e"
   },
   "source": [
    "#### Use Seaborn Library to Plot the Results"
   ]
  },
  {
   "cell_type": "code",
   "execution_count": 9,
   "metadata": {
    "_uuid": "1b999d466f3862a8671bd2e1d586977a863fd3e6"
   },
   "outputs": [
    {
     "data": {
      "text/plain": [
       "<matplotlib.axes._subplots.AxesSubplot at 0x203b90ae248>"
      ]
     },
     "execution_count": 9,
     "metadata": {},
     "output_type": "execute_result"
    },
    {
     "data": {
      "image/png": "[encoded data removed]",
      "text/plain": [
       "<Figure size 684x270 with 1 Axes>"
      ]
     },
     "metadata": {},
     "output_type": "display_data"
    }
   ],
   "source": [
    "import seaborn as sns\n",
    "sns.set(rc={ \"figure.figsize\": (9.5, 3.75) })\n",
    "\n",
    "sns.boxplot(x=\"modelName\", y=\"accuracy\", data=crossValidateDataFrame)\n",
    "sns.stripplot(x=\"modelName\", y=\"accuracy\", data=crossValidateDataFrame, size=8, jitter=True, edgecolor=\"gray\", linewidth=2)"
   ]
  },
  {
   "cell_type": "code",
   "execution_count": 10,
   "metadata": {
    "_uuid": "681154ea25cead4867405b6e2b467bdb7e9d0ebe"
   },
   "outputs": [
    {
     "data": {
      "text/plain": [
       "modelName\n",
       "LogisticRegression        0.962286\n",
       "MLPClassifier             0.967810\n",
       "MultinomialNB             0.956000\n",
       "RandomForestClassifier    0.803810\n",
       "SGDClassifier             0.962667\n",
       "Name: accuracy, dtype: float64"
      ]
     },
     "execution_count": 10,
     "metadata": {},
     "output_type": "execute_result"
    }
   ],
   "source": [
    "# Mean Accuracy of Each Algorithm\n",
    "crossValidateDataFrame.groupby(\"modelName\").accuracy.mean()"
   ]
  },
  {
   "cell_type": "code",
   "execution_count": 11,
   "metadata": {},
   "outputs": [
    {
     "name": "stderr",
     "output_type": "stream",
     "text": [
      "C:\\Users\\sheik\\Miniconda3\\lib\\site-packages\\sklearn\\linear_model\\logistic.py:469: FutureWarning: Default multi_class will be changed to 'auto' in 0.22. Specify the multi_class option to silence this warning.\n",
      "  \"this warning.\", FutureWarning)\n"
     ]
    },
    {
     "data": {
      "text/html": [
       "<div>\n",
       "<style scoped>\n",
       "    .dataframe tbody tr th:only-of-type {\n",
       "        vertical-align: middle;\n",
       "    }\n",
       "\n",
       "    .dataframe tbody tr th {\n",
       "        vertical-align: top;\n",
       "    }\n",
       "\n",
       "    .dataframe thead th {\n",
       "        text-align: right;\n",
       "    }\n",
       "</style>\n",
       "<table border=\"1\" class=\"dataframe\">\n",
       "  <thead>\n",
       "    <tr style=\"text-align: right;\">\n",
       "      <th></th>\n",
       "      <th>Algorithm</th>\n",
       "      <th>Precision</th>\n",
       "      <th>Recall</th>\n",
       "      <th>F1 Score</th>\n",
       "    </tr>\n",
       "  </thead>\n",
       "  <tbody>\n",
       "    <tr>\n",
       "      <th>0</th>\n",
       "      <td>RandomForestClassifier</td>\n",
       "      <td>0.840193</td>\n",
       "      <td>0.823408</td>\n",
       "      <td>0.812721</td>\n",
       "    </tr>\n",
       "    <tr>\n",
       "      <th>1</th>\n",
       "      <td>MultinomialNB</td>\n",
       "      <td>0.955922</td>\n",
       "      <td>0.955708</td>\n",
       "      <td>0.955459</td>\n",
       "    </tr>\n",
       "    <tr>\n",
       "      <th>2</th>\n",
       "      <td>LogisticRegression</td>\n",
       "      <td>0.963087</td>\n",
       "      <td>0.962665</td>\n",
       "      <td>0.962834</td>\n",
       "    </tr>\n",
       "    <tr>\n",
       "      <th>3</th>\n",
       "      <td>SGDClassifier</td>\n",
       "      <td>0.964078</td>\n",
       "      <td>0.963329</td>\n",
       "      <td>0.963439</td>\n",
       "    </tr>\n",
       "    <tr>\n",
       "      <th>4</th>\n",
       "      <td>MLPClassifier</td>\n",
       "      <td>0.967904</td>\n",
       "      <td>0.967390</td>\n",
       "      <td>0.967584</td>\n",
       "    </tr>\n",
       "  </tbody>\n",
       "</table>\n",
       "</div>"
      ],
      "text/plain": [
       "                Algorithm  Precision    Recall  F1 Score\n",
       "0  RandomForestClassifier   0.840193  0.823408  0.812721\n",
       "1           MultinomialNB   0.955922  0.955708  0.955459\n",
       "2      LogisticRegression   0.963087  0.962665  0.962834\n",
       "3           SGDClassifier   0.964078  0.963329  0.963439\n",
       "4           MLPClassifier   0.967904  0.967390  0.967584"
      ]
     },
     "execution_count": 11,
     "metadata": {},
     "output_type": "execute_result"
    }
   ],
   "source": [
    "# Precision, Recall and F1 Score\n",
    "from sklearn.metrics import recall_score, precision_score, f1_score\n",
    "from sklearn.model_selection import train_test_split\n",
    "\n",
    "#For Each Algorithm \n",
    "accuracyList = []\n",
    "for model in models:\n",
    "    modelName = model.__class__.__name__\n",
    "\n",
    "    #Split Data \n",
    "    X_train, X_test, y_train, y_test, indices_train, indices_test = train_test_split(features, labels, dataFrame.index, test_size=0.33, random_state=0)\n",
    "\n",
    "    #Train Algorithm\n",
    "    model.fit(X_train, y_train)\n",
    "\n",
    "    # Make Predictions\n",
    "    y_pred_proba = model.predict_proba(X_test)\n",
    "    y_pred = model.predict(X_test)\n",
    "    \n",
    "    accuracyList.append([modelName, precision_score(y_test, y_pred, average='macro'), recall_score(y_test, y_pred, average='macro'), f1_score(y_test, y_pred, average='macro')])\n",
    "\n",
    "pd.DataFrame(accuracyList, columns=[\"Algorithm\", \"Precision\", \"Recall\", \"F1 Score\"])"
   ]
  },
  {
   "cell_type": "markdown",
   "metadata": {
    "_uuid": "37e085dc63373264e263537cdcb5c4ab7a900191"
   },
   "source": [
    "## Model Fit Logistic Regression with 33% of Data randomly Chosen For Test"
   ]
  },
  {
   "cell_type": "code",
   "execution_count": 12,
   "metadata": {
    "_uuid": "a6fbb28a3198f2c103237ccb7391121d8fd2a39c"
   },
   "outputs": [
    {
     "name": "stderr",
     "output_type": "stream",
     "text": [
      "C:\\Users\\sheik\\Miniconda3\\lib\\site-packages\\sklearn\\linear_model\\logistic.py:469: FutureWarning: Default multi_class will be changed to 'auto' in 0.22. Specify the multi_class option to silence this warning.\n",
      "  \"this warning.\", FutureWarning)\n"
     ]
    }
   ],
   "source": [
    "from sklearn.model_selection import train_test_split\n",
    "\n",
    "model = LogisticRegression(random_state=0, solver=\"lbfgs\")\n",
    "\n",
    "#Split Data \n",
    "X_train, X_test, y_train, y_test, indices_train, indices_test = train_test_split(features, labels, dataFrame.index, test_size=0.33, random_state=0)\n",
    "\n",
    "#Train Algorithm\n",
    "model.fit(X_train, y_train)\n",
    "\n",
    "# Make Predictions\n",
    "y_pred_proba = model.predict_proba(X_test)\n",
    "y_pred = model.predict(X_test)"
   ]
  },
  {
   "cell_type": "markdown",
   "metadata": {
    "_uuid": "7230446704d078178510a35c1d07ec64bad522fe"
   },
   "source": [
    "#### Print Confusion Matrix in Test Data"
   ]
  },
  {
   "cell_type": "code",
   "execution_count": 13,
   "metadata": {
    "_uuid": "11a26d305012fc71e83521180b367a4966fb53fc"
   },
   "outputs": [
    {
     "data": {
      "text/plain": [
       "Text(0.5, 10.203125, 'Predicted')"
      ]
     },
     "execution_count": 13,
     "metadata": {},
     "output_type": "execute_result"
    },
    {
     "data": {
      "image/png": "[encoded data removed]",
      "text/plain": [
       "<Figure size 684x270 with 2 Axes>"
      ]
     },
     "metadata": {},
     "output_type": "display_data"
    }
   ],
   "source": [
    "from sklearn.metrics import confusion_matrix\n",
    "import seaborn as sns\n",
    "\n",
    "conf_mat = confusion_matrix(y_test, y_pred)\n",
    "sns.heatmap(conf_mat, annot=True, fmt=\"d\",\n",
    "            xticklabels=categoryIdDataFrame.Category.values, yticklabels=categoryIdDataFrame.Category.values)\n",
    "plt.ylabel(\"Actual\")\n",
    "plt.xlabel(\"Predicted\")"
   ]
  },
  {
   "cell_type": "markdown",
   "metadata": {
    "_uuid": "f24c348704e0cd6b3d18e488ef2a927e1aa827f2"
   },
   "source": [
    "## Finally - Use All The Data to Train The Model and Save to Disk"
   ]
  },
  {
   "cell_type": "code",
   "execution_count": 14,
   "metadata": {
    "_uuid": "423b104fd06e1ae2c64cb4c9d9e74d8206f01989"
   },
   "outputs": [
    {
     "name": "stderr",
     "output_type": "stream",
     "text": [
      "C:\\Users\\sheik\\Miniconda3\\lib\\site-packages\\sklearn\\linear_model\\logistic.py:469: FutureWarning: Default multi_class will be changed to 'auto' in 0.22. Specify the multi_class option to silence this warning.\n",
      "  \"this warning.\", FutureWarning)\n"
     ]
    },
    {
     "data": {
      "text/plain": [
       "LogisticRegression(C=1.0, class_weight=None, dual=False, fit_intercept=True,\n",
       "                   intercept_scaling=1, l1_ratio=None, max_iter=100,\n",
       "                   multi_class='warn', n_jobs=None, penalty='l2',\n",
       "                   random_state=0, solver='lbfgs', tol=0.0001, verbose=0,\n",
       "                   warm_start=False)"
      ]
     },
     "execution_count": 14,
     "metadata": {},
     "output_type": "execute_result"
    }
   ],
   "source": [
    "# Fit The Model\n",
    "model.fit(features, labels)"
   ]
  },
  {
   "cell_type": "code",
   "execution_count": 15,
   "metadata": {},
   "outputs": [
    {
     "name": "stderr",
     "output_type": "stream",
     "text": [
      "C:\\Users\\sheik\\Miniconda3\\lib\\site-packages\\sklearn\\externals\\joblib\\__init__.py:15: DeprecationWarning: sklearn.externals.joblib is deprecated in 0.21 and will be removed in 0.23. Please import this functionality directly from joblib, which can be installed with: pip install joblib. If this warning is raised when loading pickled models, you may need to re-serialize those models with scikit-learn 0.21+.\n",
      "  warnings.warn(msg, category=DeprecationWarning)\n"
     ]
    },
    {
     "data": {
      "text/plain": [
       "['TrainedData/Fitted TFIDF.gz']"
      ]
     },
     "execution_count": 15,
     "metadata": {},
     "output_type": "execute_result"
    }
   ],
   "source": [
    "from sklearn.externals import joblib\n",
    "\n",
    "# Save Model to Disk\n",
    "joblib.dump(model, \"TrainedData/Finalized Model.gz\", compress=9)\n",
    "\n",
    "# Save Category List to Disk\n",
    "joblib.dump(idToCategory, \"TrainedData/Category List.gz\", compress=9)\n",
    "\n",
    "# Save Fitted TFIDF to Disk\n",
    "joblib.dump(TFIDFVectorizer, \"TrainedData/Fitted TFIDF.gz\", compress=9)"
   ]
  }
 ],
 "metadata": {
  "kernelspec": {
   "display_name": "Python 3",
   "language": "python",
   "name": "python3"
  },
  "language_info": {
   "codemirror_mode": {
    "name": "ipython",
    "version": 3
   },
   "file_extension": ".py",
   "mimetype": "text/x-python",
   "name": "python",
   "nbconvert_exporter": "python",
   "pygments_lexer": "ipython3",
   "version": "3.7.4"
  }
 },
 "nbformat": 4,
 "nbformat_minor": 1
}
